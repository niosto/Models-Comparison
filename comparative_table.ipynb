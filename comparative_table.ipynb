{
 "cells": [
  {
   "cell_type": "code",
   "execution_count": 4,
   "id": "311fefd9",
   "metadata": {},
   "outputs": [
    {
     "name": "stdout",
     "output_type": "stream",
     "text": [
      "  Modelo  Train Accuracy  Val Accuracy  Test Accuracy\n",
      "0    kNN        0.966755      0.857143       0.897833\n",
      "1     rf        0.968750      0.950311       0.907121\n",
      "2    DNN        0.890293      0.773292       0.798762\n"
     ]
    }
   ],
   "source": [
    "import pandas as pd\n",
    "\n",
    "df_knn = pd.read_csv(\"resultados_knn.csv\")\n",
    "df_rf = pd.read_csv(\"resultados_rf.csv\")\n",
    "df_dnn = pd.read_csv(\"resultados_dnn.csv\")\n",
    "\n",
    "df_resultados = pd.concat([df_knn, df_rf, df_dnn], ignore_index=True)\n",
    "print(df_resultados)"
   ]
  }
 ],
 "metadata": {
  "kernelspec": {
   "display_name": "Python 3",
   "language": "python",
   "name": "python3"
  },
  "language_info": {
   "codemirror_mode": {
    "name": "ipython",
    "version": 3
   },
   "file_extension": ".py",
   "mimetype": "text/x-python",
   "name": "python",
   "nbconvert_exporter": "python",
   "pygments_lexer": "ipython3",
   "version": "3.13.3"
  }
 },
 "nbformat": 4,
 "nbformat_minor": 5
}
