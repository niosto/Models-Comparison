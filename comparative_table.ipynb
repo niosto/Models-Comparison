{
 "cells": [
  {
   "cell_type": "code",
   "execution_count": 1,
   "id": "311fefd9",
   "metadata": {},
   "outputs": [
    {
     "name": "stdout",
     "output_type": "stream",
     "text": [
      "  Modelo     Dataset  Accuracy  Precision  Recall  F1-Score\n",
      "0    kNN       Train     0.795      0.805   0.795     0.780\n",
      "1    kNN  Validation     0.764      0.799   0.764     0.749\n",
      "2    kNN        Test     0.749      0.737   0.749     0.732\n",
      "3     rf       Train     0.969      0.969   0.969     0.969\n",
      "4     rf  Validation     0.950      0.952   0.950     0.950\n",
      "5     rf        Test     0.907      0.910   0.907     0.904\n",
      "6    DNN       Train     0.890      0.890   0.890     0.888\n",
      "7    DNN  Validation     0.773      0.781   0.773     0.767\n",
      "8    DNN        Test     0.799      0.794   0.799     0.795\n"
     ]
    }
   ],
   "source": [
    "import pandas as pd\n",
    "\n",
    "# Cargar todos los resultados\n",
    "df_knn = pd.read_csv(\"resultados_knn.csv\")\n",
    "df_rf = pd.read_csv(\"resultados_rf.csv\")\n",
    "df_dnn = pd.read_csv(\"resultados_dnn.csv\")\n",
    "\n",
    "# Unir resultados\n",
    "df_resultados = pd.concat([df_knn, df_rf, df_dnn], ignore_index=True)\n",
    "\n",
    "# Reordenar columnas\n",
    "df_resultados = df_resultados[[\"Modelo\", \"Dataset\", \"Accuracy\", \"Precision\", \"Recall\", \"F1-Score\"]]\n",
    "\n",
    "print(df_resultados)\n"
   ]
  }
 ],
 "metadata": {
  "kernelspec": {
   "display_name": "Python 3",
   "language": "python",
   "name": "python3"
  },
  "language_info": {
   "codemirror_mode": {
    "name": "ipython",
    "version": 3
   },
   "file_extension": ".py",
   "mimetype": "text/x-python",
   "name": "python",
   "nbconvert_exporter": "python",
   "pygments_lexer": "ipython3",
   "version": "3.13.3"
  }
 },
 "nbformat": 4,
 "nbformat_minor": 5
}
