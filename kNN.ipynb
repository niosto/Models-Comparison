{
 "cells": [
  {
   "cell_type": "code",
   "execution_count": 1,
   "id": "9b380677",
   "metadata": {},
   "outputs": [
    {
     "name": "stderr",
     "output_type": "stream",
     "text": [
      "c:\\Users\\Usuario\\AppData\\Local\\Programs\\Python\\Python313\\Lib\\site-packages\\tqdm\\auto.py:21: TqdmWarning: IProgress not found. Please update jupyter and ipywidgets. See https://ipywidgets.readthedocs.io/en/stable/user_install.html\n",
      "  from .autonotebook import tqdm as notebook_tqdm\n"
     ]
    },
    {
     "name": "stdout",
     "output_type": "stream",
     "text": [
      "Path to dataset files: C:\\Users\\Usuario\\.cache\\kagglehub\\datasets\\rabieelkharoua\\alzheimers-disease-dataset\\versions\\1\n"
     ]
    }
   ],
   "source": [
    "import kagglehub\n",
    "import pandas as pd\n",
    "import numpy as np\n",
    "import seaborn as sns\n",
    "from matplotlib import pyplot as plt\n",
    "%matplotlib inline\n",
    "\n",
    "# Download latest version\n",
    "path = kagglehub.dataset_download(\"rabieelkharoua/alzheimers-disease-dataset\")\n",
    "\n",
    "print(\"Path to dataset files:\", path)"
   ]
  },
  {
   "cell_type": "code",
   "execution_count": 2,
   "id": "41285632",
   "metadata": {},
   "outputs": [
    {
     "data": {
      "text/html": [
       "<div>\n",
       "<style scoped>\n",
       "    .dataframe tbody tr th:only-of-type {\n",
       "        vertical-align: middle;\n",
       "    }\n",
       "\n",
       "    .dataframe tbody tr th {\n",
       "        vertical-align: top;\n",
       "    }\n",
       "\n",
       "    .dataframe thead th {\n",
       "        text-align: right;\n",
       "    }\n",
       "</style>\n",
       "<table border=\"1\" class=\"dataframe\">\n",
       "  <thead>\n",
       "    <tr style=\"text-align: right;\">\n",
       "      <th></th>\n",
       "      <th>PatientID</th>\n",
       "      <th>Age</th>\n",
       "      <th>Gender</th>\n",
       "      <th>Ethnicity</th>\n",
       "      <th>EducationLevel</th>\n",
       "      <th>BMI</th>\n",
       "      <th>Smoking</th>\n",
       "      <th>AlcoholConsumption</th>\n",
       "      <th>PhysicalActivity</th>\n",
       "      <th>DietQuality</th>\n",
       "      <th>...</th>\n",
       "      <th>MemoryComplaints</th>\n",
       "      <th>BehavioralProblems</th>\n",
       "      <th>ADL</th>\n",
       "      <th>Confusion</th>\n",
       "      <th>Disorientation</th>\n",
       "      <th>PersonalityChanges</th>\n",
       "      <th>DifficultyCompletingTasks</th>\n",
       "      <th>Forgetfulness</th>\n",
       "      <th>Diagnosis</th>\n",
       "      <th>DoctorInCharge</th>\n",
       "    </tr>\n",
       "  </thead>\n",
       "  <tbody>\n",
       "    <tr>\n",
       "      <th>0</th>\n",
       "      <td>4751</td>\n",
       "      <td>73</td>\n",
       "      <td>0</td>\n",
       "      <td>0</td>\n",
       "      <td>2</td>\n",
       "      <td>22.927749</td>\n",
       "      <td>0</td>\n",
       "      <td>13.297218</td>\n",
       "      <td>6.327112</td>\n",
       "      <td>1.347214</td>\n",
       "      <td>...</td>\n",
       "      <td>0</td>\n",
       "      <td>0</td>\n",
       "      <td>1.725883</td>\n",
       "      <td>0</td>\n",
       "      <td>0</td>\n",
       "      <td>0</td>\n",
       "      <td>1</td>\n",
       "      <td>0</td>\n",
       "      <td>0</td>\n",
       "      <td>XXXConfid</td>\n",
       "    </tr>\n",
       "    <tr>\n",
       "      <th>1</th>\n",
       "      <td>4752</td>\n",
       "      <td>89</td>\n",
       "      <td>0</td>\n",
       "      <td>0</td>\n",
       "      <td>0</td>\n",
       "      <td>26.827681</td>\n",
       "      <td>0</td>\n",
       "      <td>4.542524</td>\n",
       "      <td>7.619885</td>\n",
       "      <td>0.518767</td>\n",
       "      <td>...</td>\n",
       "      <td>0</td>\n",
       "      <td>0</td>\n",
       "      <td>2.592424</td>\n",
       "      <td>0</td>\n",
       "      <td>0</td>\n",
       "      <td>0</td>\n",
       "      <td>0</td>\n",
       "      <td>1</td>\n",
       "      <td>0</td>\n",
       "      <td>XXXConfid</td>\n",
       "    </tr>\n",
       "    <tr>\n",
       "      <th>2</th>\n",
       "      <td>4753</td>\n",
       "      <td>73</td>\n",
       "      <td>0</td>\n",
       "      <td>3</td>\n",
       "      <td>1</td>\n",
       "      <td>17.795882</td>\n",
       "      <td>0</td>\n",
       "      <td>19.555085</td>\n",
       "      <td>7.844988</td>\n",
       "      <td>1.826335</td>\n",
       "      <td>...</td>\n",
       "      <td>0</td>\n",
       "      <td>0</td>\n",
       "      <td>7.119548</td>\n",
       "      <td>0</td>\n",
       "      <td>1</td>\n",
       "      <td>0</td>\n",
       "      <td>1</td>\n",
       "      <td>0</td>\n",
       "      <td>0</td>\n",
       "      <td>XXXConfid</td>\n",
       "    </tr>\n",
       "    <tr>\n",
       "      <th>3</th>\n",
       "      <td>4754</td>\n",
       "      <td>74</td>\n",
       "      <td>1</td>\n",
       "      <td>0</td>\n",
       "      <td>1</td>\n",
       "      <td>33.800817</td>\n",
       "      <td>1</td>\n",
       "      <td>12.209266</td>\n",
       "      <td>8.428001</td>\n",
       "      <td>7.435604</td>\n",
       "      <td>...</td>\n",
       "      <td>0</td>\n",
       "      <td>1</td>\n",
       "      <td>6.481226</td>\n",
       "      <td>0</td>\n",
       "      <td>0</td>\n",
       "      <td>0</td>\n",
       "      <td>0</td>\n",
       "      <td>0</td>\n",
       "      <td>0</td>\n",
       "      <td>XXXConfid</td>\n",
       "    </tr>\n",
       "    <tr>\n",
       "      <th>4</th>\n",
       "      <td>4755</td>\n",
       "      <td>89</td>\n",
       "      <td>0</td>\n",
       "      <td>0</td>\n",
       "      <td>0</td>\n",
       "      <td>20.716974</td>\n",
       "      <td>0</td>\n",
       "      <td>18.454356</td>\n",
       "      <td>6.310461</td>\n",
       "      <td>0.795498</td>\n",
       "      <td>...</td>\n",
       "      <td>0</td>\n",
       "      <td>0</td>\n",
       "      <td>0.014691</td>\n",
       "      <td>0</td>\n",
       "      <td>0</td>\n",
       "      <td>1</td>\n",
       "      <td>1</td>\n",
       "      <td>0</td>\n",
       "      <td>0</td>\n",
       "      <td>XXXConfid</td>\n",
       "    </tr>\n",
       "  </tbody>\n",
       "</table>\n",
       "<p>5 rows × 35 columns</p>\n",
       "</div>"
      ],
      "text/plain": [
       "   PatientID  Age  Gender  Ethnicity  EducationLevel        BMI  Smoking  \\\n",
       "0       4751   73       0          0               2  22.927749        0   \n",
       "1       4752   89       0          0               0  26.827681        0   \n",
       "2       4753   73       0          3               1  17.795882        0   \n",
       "3       4754   74       1          0               1  33.800817        1   \n",
       "4       4755   89       0          0               0  20.716974        0   \n",
       "\n",
       "   AlcoholConsumption  PhysicalActivity  DietQuality  ...  MemoryComplaints  \\\n",
       "0           13.297218          6.327112     1.347214  ...                 0   \n",
       "1            4.542524          7.619885     0.518767  ...                 0   \n",
       "2           19.555085          7.844988     1.826335  ...                 0   \n",
       "3           12.209266          8.428001     7.435604  ...                 0   \n",
       "4           18.454356          6.310461     0.795498  ...                 0   \n",
       "\n",
       "   BehavioralProblems       ADL  Confusion  Disorientation  \\\n",
       "0                   0  1.725883          0               0   \n",
       "1                   0  2.592424          0               0   \n",
       "2                   0  7.119548          0               1   \n",
       "3                   1  6.481226          0               0   \n",
       "4                   0  0.014691          0               0   \n",
       "\n",
       "   PersonalityChanges  DifficultyCompletingTasks  Forgetfulness  Diagnosis  \\\n",
       "0                   0                          1              0          0   \n",
       "1                   0                          0              1          0   \n",
       "2                   0                          1              0          0   \n",
       "3                   0                          0              0          0   \n",
       "4                   1                          1              0          0   \n",
       "\n",
       "   DoctorInCharge  \n",
       "0       XXXConfid  \n",
       "1       XXXConfid  \n",
       "2       XXXConfid  \n",
       "3       XXXConfid  \n",
       "4       XXXConfid  \n",
       "\n",
       "[5 rows x 35 columns]"
      ]
     },
     "execution_count": 2,
     "metadata": {},
     "output_type": "execute_result"
    }
   ],
   "source": [
    "df = pd.read_csv(path + \"/alzheimers_disease_data.csv\")\n",
    "df.shape\n",
    "df.head()"
   ]
  },
  {
   "cell_type": "code",
   "execution_count": 3,
   "id": "0f86ba96",
   "metadata": {},
   "outputs": [
    {
     "data": {
      "text/plain": [
       "PatientID                      int64\n",
       "Age                            int64\n",
       "Gender                         int64\n",
       "Ethnicity                      int64\n",
       "EducationLevel                 int64\n",
       "BMI                          float64\n",
       "Smoking                        int64\n",
       "AlcoholConsumption           float64\n",
       "PhysicalActivity             float64\n",
       "DietQuality                  float64\n",
       "SleepQuality                 float64\n",
       "FamilyHistoryAlzheimers        int64\n",
       "CardiovascularDisease          int64\n",
       "Diabetes                       int64\n",
       "Depression                     int64\n",
       "HeadInjury                     int64\n",
       "Hypertension                   int64\n",
       "SystolicBP                     int64\n",
       "DiastolicBP                    int64\n",
       "CholesterolTotal             float64\n",
       "CholesterolLDL               float64\n",
       "CholesterolHDL               float64\n",
       "CholesterolTriglycerides     float64\n",
       "MMSE                         float64\n",
       "FunctionalAssessment         float64\n",
       "MemoryComplaints               int64\n",
       "BehavioralProblems             int64\n",
       "ADL                          float64\n",
       "Confusion                      int64\n",
       "Disorientation                 int64\n",
       "PersonalityChanges             int64\n",
       "DifficultyCompletingTasks      int64\n",
       "Forgetfulness                  int64\n",
       "Diagnosis                      int64\n",
       "DoctorInCharge                object\n",
       "dtype: object"
      ]
     },
     "execution_count": 3,
     "metadata": {},
     "output_type": "execute_result"
    }
   ],
   "source": [
    "df.dtypes"
   ]
  },
  {
   "cell_type": "code",
   "execution_count": 4,
   "id": "203c4bc4",
   "metadata": {},
   "outputs": [
    {
     "data": {
      "text/plain": [
       "PatientID                    0\n",
       "Age                          0\n",
       "Gender                       0\n",
       "Ethnicity                    0\n",
       "EducationLevel               0\n",
       "BMI                          0\n",
       "Smoking                      0\n",
       "AlcoholConsumption           0\n",
       "PhysicalActivity             0\n",
       "DietQuality                  0\n",
       "SleepQuality                 0\n",
       "FamilyHistoryAlzheimers      0\n",
       "CardiovascularDisease        0\n",
       "Diabetes                     0\n",
       "Depression                   0\n",
       "HeadInjury                   0\n",
       "Hypertension                 0\n",
       "SystolicBP                   0\n",
       "DiastolicBP                  0\n",
       "CholesterolTotal             0\n",
       "CholesterolLDL               0\n",
       "CholesterolHDL               0\n",
       "CholesterolTriglycerides     0\n",
       "MMSE                         0\n",
       "FunctionalAssessment         0\n",
       "MemoryComplaints             0\n",
       "BehavioralProblems           0\n",
       "ADL                          0\n",
       "Confusion                    0\n",
       "Disorientation               0\n",
       "PersonalityChanges           0\n",
       "DifficultyCompletingTasks    0\n",
       "Forgetfulness                0\n",
       "Diagnosis                    0\n",
       "DoctorInCharge               0\n",
       "dtype: int64"
      ]
     },
     "execution_count": 4,
     "metadata": {},
     "output_type": "execute_result"
    }
   ],
   "source": [
    "df.isna().sum() #Muestra la cantidad de valores nulos en cada columna"
   ]
  },
  {
   "cell_type": "code",
   "execution_count": 5,
   "id": "32c3180a",
   "metadata": {},
   "outputs": [
    {
     "name": "stdout",
     "output_type": "stream",
     "text": [
      "1375 muestras de entrenamiento\n",
      "344 muestras de validación\n",
      "430 muestras de prueba\n"
     ]
    }
   ],
   "source": [
    "from sklearn.model_selection import train_test_split\n",
    "\n",
    "df.columns = df.columns.str.lower().str.replace(' ', '_')\n",
    "df.drop([\"patientid\", \"doctorincharge\"], axis = 1, inplace=True) #Eliminar la columna del resultado y patienID\n",
    "\n",
    "X_train, X_val = train_test_split(df, test_size=0.2, random_state=1)\n",
    "X_train, X_test = train_test_split(X_train, test_size=0.2, random_state=11)\n",
    "\n",
    "y_train = X_train[\"diagnosis\"].values\n",
    "X_train.drop([\"diagnosis\"],inplace=True,axis = 1)\n",
    "\n",
    "y_val = X_val[\"diagnosis\"].values\n",
    "X_val.drop([\"diagnosis\"],inplace=True,axis = 1)\n",
    "\n",
    "y_test = X_test[\"diagnosis\"].values\n",
    "X_test.drop([\"diagnosis\"],inplace=True,axis = 1)\n",
    "\n",
    "print(f\"{X_train.shape[0]} muestras de entrenamiento\")\n",
    "print(f\"{X_test.shape[0]} muestras de validación\")\n",
    "print(f\"{X_val.shape[0]} muestras de prueba\")"
   ]
  },
  {
   "cell_type": "code",
   "execution_count": 6,
   "id": "2efab0fe",
   "metadata": {},
   "outputs": [
    {
     "name": "stdout",
     "output_type": "stream",
     "text": [
      "Index(['age', 'gender', 'ethnicity', 'educationlevel', 'bmi', 'smoking',\n",
      "       'alcoholconsumption', 'physicalactivity', 'dietquality', 'sleepquality',\n",
      "       'familyhistoryalzheimers', 'cardiovasculardisease', 'diabetes',\n",
      "       'depression', 'headinjury', 'hypertension', 'systolicbp', 'diastolicbp',\n",
      "       'cholesteroltotal', 'cholesterolldl', 'cholesterolhdl',\n",
      "       'cholesteroltriglycerides', 'mmse', 'functionalassessment',\n",
      "       'memorycomplaints', 'behavioralproblems', 'adl', 'confusion',\n",
      "       'disorientation', 'personalitychanges', 'difficultycompletingtasks',\n",
      "       'forgetfulness'],\n",
      "      dtype='object')\n",
      "ColumnTransformer(transformers=[('num',\n",
      "                                 Pipeline(steps=[('scaler', StandardScaler())]),\n",
      "                                 Index(['age', 'gender', 'ethnicity', 'educationlevel', 'bmi', 'smoking',\n",
      "       'alcoholconsumption', 'physicalactivity', 'dietquality', 'sleepquality',\n",
      "       'familyhistoryalzheimers', 'cardiovasculardisease', 'diabetes',\n",
      "       'depression', 'headinjury', 'hypertension', 'systolicbp', 'diastolicbp',\n",
      "       'cholesteroltotal', 'cholesterolldl', 'cholesterolhdl',\n",
      "       'cholesteroltriglycerides', 'mmse', 'functionalassessment',\n",
      "       'memorycomplaints', 'behavioralproblems', 'adl', 'confusion',\n",
      "       'disorientation', 'personalitychanges', 'difficultycompletingtasks',\n",
      "       'forgetfulness'],\n",
      "      dtype='object'))])\n"
     ]
    }
   ],
   "source": [
    "from sklearn.neighbors import KNeighborsClassifier\n",
    "from sklearn.pipeline import Pipeline\n",
    "from sklearn.compose import ColumnTransformer\n",
    "from sklearn.preprocessing import StandardScaler, OneHotEncoder\n",
    "\n",
    "num_cols = X_train.select_dtypes(include=np.number).columns\n",
    "print(num_cols)\n",
    "\n",
    "numeric_transformer = Pipeline(\n",
    "    steps=[(\"scaler\", StandardScaler())]\n",
    ")\n",
    "\n",
    "preprocessor = ColumnTransformer(\n",
    "    transformers=[\n",
    "        (\"num\", numeric_transformer, num_cols),\n",
    "    ]\n",
    ")\n",
    "print(preprocessor)"
   ]
  },
  {
   "cell_type": "code",
   "execution_count": 7,
   "id": "9cc9324d",
   "metadata": {},
   "outputs": [
    {
     "data": {
      "image/png": "[encoded data removed]",
      "text/plain": [
       "<Figure size 640x480 with 1 Axes>"
      ]
     },
     "metadata": {},
     "output_type": "display_data"
    }
   ],
   "source": [
    "# Crear un clasificador KNN con diferentes números de vecinos\n",
    "n_neighbors = [1,3,5,7,9,11,13,15,16,17,19,21,22,24]\n",
    "accuracy = []\n",
    "\n",
    "for k in n_neighbors:\n",
    "  clf = Pipeline(steps=[(\"preprocessor\", preprocessor), (\"classifier\", KNeighborsClassifier(n_neighbors=k))])\n",
    "\n",
    "  # Entrenar el clasificador con los datos de entrenamiento\n",
    "  clf.fit(X_train, y_train)\n",
    "\n",
    "  # Evaluar el rendimiento del clasificador en los datos de validacion\n",
    "  accuracy.append(clf.score(X_val, y_val))\n",
    "\n",
    "gfg = sns.barplot(x = n_neighbors,y = accuracy)\n",
    "gfg.set(xlabel =\"Number of neighbors\", ylabel = \"Accuracy (%)\", title ='k-NN Classification')\n",
    "plt.show()\n"
   ]
  },
  {
   "cell_type": "code",
   "execution_count": 8,
   "id": "ba18223a",
   "metadata": {},
   "outputs": [
    {
     "name": "stdout",
     "output_type": "stream",
     "text": [
      "El número óptimo de vecinos es 15\n"
     ]
    }
   ],
   "source": [
    "#Re-entrenar el modelo con los datos de entrenamiento y validación para el valor de k óptimo\n",
    "k_opt = n_neighbors[np.argmax(accuracy)]\n",
    "print(f\"El número óptimo de vecinos es {k_opt}\")\n",
    "X_train = pd.concat([X_train,X_val],axis=0)\n",
    "y_train = np.hstack([y_train,y_val])"
   ]
  },
  {
   "cell_type": "code",
   "execution_count": 9,
   "id": "e21606e4",
   "metadata": {},
   "outputs": [
    {
     "name": "stdout",
     "output_type": "stream",
     "text": [
      "La tasa de acierto de clasificación en el conjunto de test es 0.77\n"
     ]
    }
   ],
   "source": [
    "# Entrenar el clasificador con los datos de entrenamiento\n",
    "clf = Pipeline(steps=[(\"preprocessor\", preprocessor), (\"classifier\", KNeighborsClassifier(n_neighbors=k_opt))])\n",
    "clf.fit(X_train, y_train)\n",
    "#Validar el rendimiento del clasificador con los datos de prueba\n",
    "accuracy = clf.score(X_val, y_val)\n",
    "\n",
    "print(f\"La tasa de acierto de clasificación en el conjunto de test es {accuracy:0.2f}\")"
   ]
  },
  {
   "cell_type": "code",
   "execution_count": 10,
   "id": "c101ffb6",
   "metadata": {},
   "outputs": [
    {
     "name": "stdout",
     "output_type": "stream",
     "text": [
      "[0]\n",
      "0\n"
     ]
    }
   ],
   "source": [
    "print(clf.predict(X_val.iloc[[0],:]))\n",
    "print(y_test[0])"
   ]
  },
  {
   "cell_type": "code",
   "execution_count": 11,
   "id": "d18c097e",
   "metadata": {},
   "outputs": [
    {
     "name": "stdout",
     "output_type": "stream",
     "text": [
      "      age  gender  ethnicity  educationlevel        bmi  smoking  \\\n",
      "1146   62       0          0               1  37.410003        0   \n",
      "\n",
      "      alcoholconsumption  physicalactivity  dietquality  sleepquality  ...  \\\n",
      "1146           19.920387          1.639385     8.910941      4.037647  ...   \n",
      "\n",
      "           mmse  functionalassessment  memorycomplaints  behavioralproblems  \\\n",
      "1146  27.741768              5.286593                 0                   0   \n",
      "\n",
      "           adl  confusion  disorientation  personalitychanges  \\\n",
      "1146  1.976559          1               0                   0   \n",
      "\n",
      "      difficultycompletingtasks  forgetfulness  \n",
      "1146                          0              0  \n",
      "\n",
      "[1 rows x 32 columns]\n"
     ]
    }
   ],
   "source": [
    "print(X_val.iloc[[0], :])"
   ]
  },
  {
   "cell_type": "code",
   "execution_count": 12,
   "id": "c4bcbf81",
   "metadata": {},
   "outputs": [
    {
     "data": {
      "image/png": "[encoded data removed]",
      "text/plain": [
       "<Figure size 640x480 with 2 Axes>"
      ]
     },
     "metadata": {},
     "output_type": "display_data"
    }
   ],
   "source": [
    "from sklearn.metrics import ConfusionMatrixDisplay, confusion_matrix, classification_report\n",
    "\n",
    "cm = confusion_matrix(y_test,clf.predict(X_test))\n",
    "disp = ConfusionMatrixDisplay(cm)\n",
    "disp.plot()\n",
    "plt.show()"
   ]
  },
  {
   "cell_type": "code",
   "execution_count": 13,
   "id": "30c28bc0",
   "metadata": {},
   "outputs": [
    {
     "name": "stdout",
     "output_type": "stream",
     "text": [
      "              precision    recall  f1-score   support\n",
      "\n",
      "           0       0.78      0.95      0.86      1166\n",
      "           1       0.86      0.51      0.64       639\n",
      "\n",
      "    accuracy                           0.80      1805\n",
      "   macro avg       0.82      0.73      0.75      1805\n",
      "weighted avg       0.81      0.80      0.78      1805\n",
      "\n"
     ]
    }
   ],
   "source": [
    "print(classification_report(y_train, clf.predict(X_train)))"
   ]
  },
  {
   "cell_type": "code",
   "execution_count": 14,
   "id": "2c194818",
   "metadata": {},
   "outputs": [
    {
     "name": "stdout",
     "output_type": "stream",
     "text": [
      "              precision    recall  f1-score   support\n",
      "\n",
      "           0       0.74      0.94      0.83       223\n",
      "           1       0.79      0.40      0.54       121\n",
      "\n",
      "    accuracy                           0.75       344\n",
      "   macro avg       0.77      0.67      0.68       344\n",
      "weighted avg       0.76      0.75      0.73       344\n",
      "\n"
     ]
    }
   ],
   "source": [
    "print(classification_report(y_test, clf.predict(X_test)))"
   ]
  },
  {
   "cell_type": "code",
   "execution_count": 15,
   "id": "993b00ff",
   "metadata": {},
   "outputs": [
    {
     "name": "stdout",
     "output_type": "stream",
     "text": [
      "              precision    recall  f1-score   support\n",
      "\n",
      "           0       0.76      0.95      0.84       277\n",
      "           1       0.84      0.44      0.58       153\n",
      "\n",
      "    accuracy                           0.77       430\n",
      "   macro avg       0.80      0.70      0.71       430\n",
      "weighted avg       0.79      0.77      0.75       430\n",
      "\n"
     ]
    }
   ],
   "source": [
    "print(classification_report(y_val, clf.predict(X_val)))"
   ]
  }
 ],
 "metadata": {
  "kernelspec": {
   "display_name": "Python 3",
   "language": "python",
   "name": "python3"
  },
  "language_info": {
   "codemirror_mode": {
    "name": "ipython",
    "version": 3
   },
   "file_extension": ".py",
   "mimetype": "text/x-python",
   "name": "python",
   "nbconvert_exporter": "python",
   "pygments_lexer": "ipython3",
   "version": "3.13.3"
  }
 },
 "nbformat": 4,
 "nbformat_minor": 5
}
